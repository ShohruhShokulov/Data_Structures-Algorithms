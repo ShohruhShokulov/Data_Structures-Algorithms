{
 "cells": [
  {
   "cell_type": "code",
   "execution_count": 3,
   "metadata": {},
   "outputs": [
    {
     "data": {
      "text/plain": [
       "720"
      ]
     },
     "execution_count": 3,
     "metadata": {},
     "output_type": "execute_result"
    }
   ],
   "source": [
    "# algorithm for factorial\n",
    "def factorial(n):\n",
    "    i = 1\n",
    "    fac = 1\n",
    "    while i!=n+1:\n",
    "        fac = i*fac\n",
    "        i +=1\n",
    "    return fac\n",
    "factorial(6)\n"
   ]
  },
  {
   "cell_type": "markdown",
   "metadata": {},
   "source": [
    "## Linear search\n"
   ]
  },
  {
   "cell_type": "code",
   "execution_count": 4,
   "metadata": {},
   "outputs": [],
   "source": [
    "# linear search algorithm\n",
    "myList = [1,3,4,6,7,8,10,12,23,45,56,78,99] # from the given list we have to return the index of the element we are searching for "
   ]
  },
  {
   "cell_type": "code",
   "execution_count": 10,
   "metadata": {},
   "outputs": [],
   "source": [
    "def linear_search(list, element):\n",
    "    index = 1\n",
    "    for i in list:\n",
    "        if i == element:\n",
    "            return index\n",
    "        else:\n",
    "            index += 1\n",
    "    return -1\n",
    "\n"
   ]
  },
  {
   "cell_type": "code",
   "execution_count": 12,
   "metadata": {},
   "outputs": [
    {
     "data": {
      "text/plain": [
       "13"
      ]
     },
     "execution_count": 12,
     "metadata": {},
     "output_type": "execute_result"
    }
   ],
   "source": [
    "linear_search(myList,99)"
   ]
  },
  {
   "cell_type": "markdown",
   "metadata": {},
   "source": [
    "## Binary search\n",
    "  ### Steps  \n",
    "  -  Firstly we have to know lowest and hightest border, L = 0 ,  H = N-1\n",
    "  -  Secondly we have to check whether our L<H, if L>H, stop\n",
    "  -  Thirdly we have to find index of the median which is \"m = (L+H)/2\"\n",
    "  -  And then if Am = element, return m\n",
    "  -  if Am<element, L = m+1 and go back to second step\n",
    "  -  if Am> element, H = m-1 and go back to second step"
   ]
  },
  {
   "cell_type": "code",
   "execution_count": 15,
   "metadata": {},
   "outputs": [
    {
     "data": {
      "text/plain": [
       "13"
      ]
     },
     "execution_count": 15,
     "metadata": {},
     "output_type": "execute_result"
    }
   ],
   "source": []
  },
  {
   "cell_type": "code",
   "execution_count": 5,
   "metadata": {},
   "outputs": [],
   "source": [
    "myList = [1,3,4,6,7,8,10,12,23,45,56,78,99]\n",
    "\n",
    "def binary_search(list, element):\n",
    "    l= 0\n",
    "    h = len(list)-1\n",
    "    while l<=h:\n",
    "        m = (l+h)//2\n",
    "        if list[m]== element:\n",
    "            return m\n",
    "        elif list[m]<element:\n",
    "            l = m+1\n",
    "        elif list[m]>element:\n",
    "            h = m-1\n",
    "    return -1\n",
    "\n",
    "    \n"
   ]
  },
  {
   "cell_type": "code",
   "execution_count": 6,
   "metadata": {},
   "outputs": [
    {
     "data": {
      "text/plain": [
       "12"
      ]
     },
     "execution_count": 6,
     "metadata": {},
     "output_type": "execute_result"
    }
   ],
   "source": [
    "binary_search(myList,99)"
   ]
  },
  {
   "cell_type": "code",
   "execution_count": 7,
   "metadata": {},
   "outputs": [
    {
     "data": {
      "text/plain": [
       "-1"
      ]
     },
     "execution_count": 7,
     "metadata": {},
     "output_type": "execute_result"
    }
   ],
   "source": [
    "binary_search(myList,0)"
   ]
  },
  {
   "cell_type": "code",
   "execution_count": 8,
   "metadata": {},
   "outputs": [
    {
     "name": "stdout",
     "output_type": "stream",
     "text": [
      "0\n"
     ]
    }
   ],
   "source": [
    "print((1)//2)"
   ]
  },
  {
   "cell_type": "code",
   "execution_count": 11,
   "metadata": {},
   "outputs": [
    {
     "data": {
      "text/plain": [
       "-1"
      ]
     },
     "execution_count": 11,
     "metadata": {},
     "output_type": "execute_result"
    }
   ],
   "source": [
    "mylist2 = [1,3,2,6,3,39,0,33,24]\n",
    "binary_search(mylist2, 0)"
   ]
  },
  {
   "cell_type": "code",
   "execution_count": null,
   "metadata": {},
   "outputs": [],
   "source": []
  }
 ],
 "metadata": {
  "kernelspec": {
   "display_name": "Python 3",
   "language": "python",
   "name": "python3"
  },
  "language_info": {
   "codemirror_mode": {
    "name": "ipython",
    "version": 3
   },
   "file_extension": ".py",
   "mimetype": "text/x-python",
   "name": "python",
   "nbconvert_exporter": "python",
   "pygments_lexer": "ipython3",
   "version": "3.11.8"
  }
 },
 "nbformat": 4,
 "nbformat_minor": 2
}
